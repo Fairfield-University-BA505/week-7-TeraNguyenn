{
 "cells": [
  {
   "cell_type": "markdown",
   "metadata": {},
   "source": [
    "# Python Review & Exercises\n",
    "\n",
    "These exercise questions are developed to help you review concepts and skills we covered in the first half of the class, where we prepare you to get started with following topics:\n",
    "\n",
    "- Variables, Statements, Expressions\n",
    "- Operators and Calculations\n",
    "- If statements\n",
    "- Function definitions and calls\n",
    "- Iterations (at least for loops)\n",
    "- strings\n",
    "- lists\n",
    "- dictionaries\n",
    "\n",
    "Remember that following questions require __more than one topics__ from above."
   ]
  },
  {
   "cell_type": "markdown",
   "metadata": {},
   "source": [
    "## Ground Rules\n",
    "\n",
    "Below rules define how this works:\n",
    "\n",
    "1. Please complete these questions in class, and if needed, after class, no later than __10/27__. You should submit the completed notebook back via Github Classroom.\n",
    "2. This is neither an exam nor an assignment - I will __NOT__ grade these. This is for you to test whether you are ready to move onto the next part of the class.\n",
    "3. Please __work with your peers__. You can learn much more if you work actively with your peers, by teaching each other. If you have not started doing so, this may be the perfect opportunity.\n",
    "4. Be __active__ in this class. I want to hear your opinions/soluions to problems below. So please speak up! This is a fair learning environment.\n",
    "5. Do __not__ try to copy code from others, include the Internet. The purpose is not to complete these questions, rather to test where your strengths and weaknesses are. Do not __fake__ it!\n",
    "\n",
    "Okay, rules are clear, let's start!"
   ]
  },
  {
   "cell_type": "markdown",
   "metadata": {},
   "source": [
    "## Q1. Code Explanation Problem\n",
    "\n",
    "#### Common Characters between Two Strings\n",
    "\n",
    "I was asked to develop a function (`common_char()`) to find out what common charaters are shared between two strings. I have provided two solutions to the problem. \n",
    "\n",
    "1. In solution 1 use a _one-liner_ for loop to solve the problem. Please write out the function in multiple lines (the regular for loop with an if statement) to make sure you understand how this works;\n",
    "2. In solution 2 I used something you have never seen in this class (__python sets__). In real world you may come across codes that you have never seen. Use Google to help you understand how _sets_ work in Python (__python sets__ might be a good search term for starters). Write you understanding in comments."
   ]
  },
  {
   "cell_type": "code",
   "execution_count": 1,
   "metadata": {
    "collapsed": false
   },
   "outputs": [
    {
     "data": {
      "text/plain": [
       "['a', 'b']"
      ]
     },
     "execution_count": 1,
     "metadata": {},
     "output_type": "execute_result"
    }
   ],
   "source": [
    "s1 = 'abc'\n",
    "s2 = 'bad'\n",
    "\n",
    "# solution 1\n",
    "def common_char1(s1, s2):\n",
    "    return [c1 for c1 in s1 if c1 in s2]\n",
    "    \n",
    "common_char1(s1, s2)"
   ]
  },
  {
   "cell_type": "code",
   "execution_count": 4,
   "metadata": {},
   "outputs": [
    {
     "data": {
      "text/plain": [
       "['a', 'b']"
      ]
     },
     "execution_count": 4,
     "metadata": {},
     "output_type": "execute_result"
    }
   ],
   "source": [
    "# solution 1 code but in multiple lines\n",
    "s1 = 'abc'\n",
    "s2 = 'bad'\n",
    "def common_char3(): # define function\n",
    "    res_lst=[] # define empty list\n",
    "    for c1 in s1: # obtain the character in s1\n",
    "        if c1 in s2: # checking if that character is in s2\n",
    "            res_lst.append(c1) # add that value present in both s1 and s2 in res_lst list\n",
    "        else:\n",
    "            pass    \n",
    "    return res_lst\n",
    "common_char3() # call function"
   ]
  },
  {
   "cell_type": "code",
   "execution_count": 5,
   "metadata": {},
   "outputs": [
    {
     "data": {
      "text/plain": [
       "['b', 'a']"
      ]
     },
     "execution_count": 5,
     "metadata": {},
     "output_type": "execute_result"
    }
   ],
   "source": [
    "def common_char3(x,y): # define function\n",
    "    res_lst=[] # define empty list\n",
    "    for c in y: # obtain the character in s1\n",
    "        if c in x: # checking if that character is in s2\n",
    "            res_lst.append(c) # add that value present in both s1 and s2 in res_lst list\n",
    "        else:\n",
    "            pass    \n",
    "    return res_lst # x,y are only defined between def() function and return\n",
    "                   # have to use s1,s2 after return bc not x,y doesn't exist outside of the function\n",
    "\n",
    "common_char3(s1,s2) # call function\n",
    "\n",
    "# this way is preferred so you don't have a lot of global variables that could get mixed up\n",
    "# so you make another local variable, so it doesn't get mixed up"
   ]
  },
  {
   "cell_type": "code",
   "execution_count": 42,
   "metadata": {
    "collapsed": false
   },
   "outputs": [
    {
     "data": {
      "text/plain": [
       "['a', 'b']"
      ]
     },
     "execution_count": 42,
     "metadata": {},
     "output_type": "execute_result"
    }
   ],
   "source": [
    "def common_char2(s1, s2):\n",
    "    return list(set(s1) & set(s2))\n",
    "    # https://www.w3schools.com/python/python_sets.asp\n",
    "    # a set is a collection of values which are unordered and unindexed\n",
    "    # so after we define a function for these these two variables\n",
    "\n",
    "common_char2(s1, s2)"
   ]
  },
  {
   "cell_type": "code",
   "execution_count": null,
   "metadata": {},
   "outputs": [],
   "source": [
    "# we need arguments in function (or at least most preferred to have arguments) so we can use function mult times in code\n",
    "# we use function if we want to use code block mult times\n",
    "# you can use a value/function/etc...as an argument, but the argument is not a variable"
   ]
  },
  {
   "cell_type": "markdown",
   "metadata": {},
   "source": [
    "## Q2. Coding Problem\n",
    "\n",
    "Given any list of integers, write a function (`sort_even()`) to sort any even numbers in a sub-list, leave all odd numbers unsorted in another sub-list.\n",
    "\n",
    "#### Example:\n",
    "- sort_even([4, 3, 2, 1, 6]) --> [[2, 4, 6], [3, 1]]\n",
    "- sort_even([4, 2]) --> [[2, 4], []]\n",
    "- sort_even([3, 1] --> [[], [3, 1]]\n",
    "- sort_even([]) --> []\n",
    "\n",
    "#### HINTS:\n",
    "\n",
    "- Clearly we want to treat odd and even numbers separately - maybe two lists to hold the two parts?\n",
    "- You may want to go through the list using a loop."
   ]
  },
  {
   "cell_type": "code",
   "execution_count": null,
   "metadata": {},
   "outputs": [],
   "source": [
    "# experiment: if we need user input...but we don't so :D\n",
    "# input: random list of numbers --> have to make sure input is indeed integer value --> is.digit()\n",
    "# to determine if number is even: i % 2 == 0\n",
    "\n",
    "\n",
    "random_input= input(\"Please enter list of integers with spaces in between each number: \") # obtain user input\n",
    "random_input= int(random_list)\n",
    "random_list = []\n",
    "\n",
    "if random_input.isdigit():\n",
    "    random_list = random_input.split(' ')\n",
    "    print(random_list)\n",
    "else:\n",
    "    pass\n",
    "    "
   ]
  },
  {
   "cell_type": "code",
   "execution_count": 5,
   "metadata": {},
   "outputs": [
    {
     "data": {
      "text/plain": [
       "[[2, 4], [1, 3, 5]]"
      ]
     },
     "execution_count": 5,
     "metadata": {},
     "output_type": "execute_result"
    }
   ],
   "source": [
    "def sort_even(lst):\n",
    "\n",
    "    even_lst=[]\n",
    "    odd_lst=[]\n",
    "\n",
    "# lst = [1,2,3,4,5]\n",
    "\n",
    "    for i in lst:\n",
    "        if i % 2 == 0:\n",
    "            even_lst.append(i)\n",
    "        else: \n",
    "            odd_lst.append(i)\n",
    "        \n",
    "    even_lst.sort() # this doesn't need to go in the for loop bc we only need to do it once \n",
    "    return([even_lst, odd_lst])\n",
    "sort_even([1,2,3,4,5])"
   ]
  },
  {
   "cell_type": "markdown",
   "metadata": {},
   "source": [
    "## Q3. Coding Problem\n",
    "\n",
    "Given a list of integers, write a function(`pair_func()`) that pairs the first number in an array with the last, the second number with the second to last, etc.\n",
    "\n",
    "#### HINTS: \n",
    "- If the list has an __odd length__, __repeat__ the middle element twice for the last pair.\n",
    "- Return an empty list if the input is an empty list.\n",
    "- Note that the result is a list of lists - so the returned `result_lst` should contain sub lists called `pairs`.\n",
    "\n",
    "#### Examples:\n",
    "- pair_func([1, 2, 3, 4, 5, 6, 7]) ➞ [[1, 7], [2, 6], [3, 5], [4, 4]]\n",
    "- pair_func([1, 2, 3, 4, 5, 6]) ➞ [[1, 6], [2, 5], [3, 4]]\n",
    "- pair_func([5, 9, 8, 1, 2]) ➞ [[5, 2], [9, 1], [8, 8]]\n",
    "- pair_func([]) ➞ []"
   ]
  },
  {
   "cell_type": "code",
   "execution_count": 29,
   "metadata": {
    "collapsed": true
   },
   "outputs": [
    {
     "data": {
      "text/plain": [
       "[[1, 7], [2, 6], [3, 5], [4, 4]]"
      ]
     },
     "execution_count": 29,
     "metadata": {},
     "output_type": "execute_result"
    }
   ],
   "source": [
    "lst=[1,2,3,4,5,6,7] # example list\n",
    "\n",
    "def pair_func(lst): # define function\n",
    "    return_lst=[]\n",
    "    \n",
    "    if len(lst) == 0: # this catches if there there is no elements in a list, it returns an empty list\n",
    "        return([])\n",
    "    elif len(lst) % 2 == 0: # if the list elements can be divided by 2 evenly, this means there is an even number of elements in the list\n",
    "        for i in range(0, int(len(lst)/2)):\n",
    "            return_lst.append([lst[i], lst[-i-1]]) # adds pairings of first and last elements into list, until it reached middle\n",
    "    else: \n",
    "        for i in range(0, int(len(lst)/2)+1): # if there is an odd number of elements in the list, will return same middle value\n",
    "            return_lst.append([lst[i], lst[-i-1]]) # or could do return_lst +=[ [lst[i], lst[-(i+1)]] ] --> works same\n",
    "    return(return_lst) # return the list\n",
    "pair_func(lst) # call the function\n",
    "\n"
   ]
  },
  {
   "cell_type": "markdown",
   "metadata": {},
   "source": [
    "## Q4. Coding Problem\n",
    "\n",
    "You work for a manufacturer, and have been asked to write a function (`profit_calc`) to calculate the _total profit_ made on the sales of a product.\n",
    "\n",
    "- You need to create a dictionary containing the cost price per unit (in dollars), sell price per unit (in dollars), and the starting inventory. The values in the dictionary should be __user inputs__.\n",
    "\n",
    "- Return the total profit made, rounded to the _nearest cent_ (2 digits after the decimal point). Assume __all of the inventory has been sold__.\n",
    "\n",
    "- Please insert the result from the function back to the original dictionary, use the key as `'profit'`.\n",
    "\n",
    "#### Example Dictionary:\n",
    "```python\n",
    "prod_dict = {\n",
    "  \"cost_price\": 32.67,\n",
    "  \"sell_price\": 45.00,\n",
    "  \"inventory\": 1200\n",
    "}\n",
    "```\n",
    "\n",
    "\n",
    "#### Example Output:\n",
    "```python\n",
    "# profit_calc(prod_dict) =  14796\n",
    "\n",
    "prod_dict = {\n",
    "  \"cost_price\": 32.67,\n",
    "  \"sell_price\": 45.00,\n",
    "  \"inventory\": 1200,\n",
    "  \"profit\": 14796\n",
    "}\n",
    "```\n",
    "\n",
    "#### HINT: \n",
    "$profit = (v2 - v1) \\times v3$"
   ]
  },
  {
   "cell_type": "code",
   "execution_count": 10,
   "metadata": {
    "collapsed": false
   },
   "outputs": [
    {
     "name": "stdin",
     "output_type": "stream",
     "text": [
      "Please enter a cost price:  12.33\n",
      "Please enter a sell price:  50.34\n",
      "Please enter an inventory amount:  3\n"
     ]
    },
    {
     "name": "stdout",
     "output_type": "stream",
     "text": [
      "profit is:  114.03\n"
     ]
    },
    {
     "data": {
      "text/plain": [
       "{'cost price': 12.33,\n",
       " 'sell price': 50.34,\n",
       " 'inventory': 3.0,\n",
       " 'profit: ': 114.03}"
      ]
     },
     "execution_count": 10,
     "metadata": {},
     "output_type": "execute_result"
    }
   ],
   "source": [
    "#input: user input of cost price, sell price, and inventory --> put into dict\n",
    "# output: is dict of user input plus the profit calculation(rounded to two decimals)\n",
    "cost_price = float(input(\"Please enter a cost price: \")) # obtain user input & convert from string to float\n",
    "sell_price = float(input(\"Please enter a sell price: \"))\n",
    "inventory = float(input(\"Please enter an inventory amount: \"))\n",
    "\n",
    "def profit_calc(): # define profit_calc function\n",
    "    product_dict = {} # define empty dict (will add to it later)\n",
    "    product_dict = {'cost price': cost_price, 'sell price': sell_price, 'inventory': inventory} # adding user inputs into the dict\n",
    "    profit = (sell_price-cost_price) * inventory # calculating profit\n",
    "    profit_round= round(profit, 2) # make sure profit is rounded to 2 digits\n",
    "    print(\"profit is: \", profit_round)\n",
    "    product_dict['profit: '] = profit_round # add profit key:value pairing to dict\n",
    "    \n",
    "    return product_dict #return dict\n",
    "profit_calc() # call function"
   ]
  },
  {
   "cell_type": "markdown",
   "metadata": {},
   "source": [
    "## Q5. Coding Problem\n",
    "\n",
    "You are tasked to write a function (`findall_lst()`) to find __all__ the indexes of the searched item in a list. \n",
    "\n",
    "We know we can use `.find()` method to search a list, but it will only return the __first__ index not __all__ of them.\n",
    "\n",
    "#### Examples: \n",
    "- findall_lst(([\"a\", \"a\", \"b\", \"a\", \"b\", \"a\"], \"a\") ➞ [0, 1, 3, 5]\n",
    "- findall_lst([1, 5, 5, 2, 7], 7) ➞ [4]\n",
    "- findall_lst([1, 5, 5, 2, 7], 8) ➞ []"
   ]
  },
  {
   "cell_type": "code",
   "execution_count": null,
   "metadata": {
    "collapsed": false
   },
   "outputs": [],
   "source": [
    "# create variables to hold the list for search as `my_lst`\n",
    "# and to hold the element to search as `my_search`\n",
    "\n"
   ]
  },
  {
   "cell_type": "code",
   "execution_count": null,
   "metadata": {
    "collapsed": true
   },
   "outputs": [],
   "source": [
    "# since the results are lists\n",
    "# initialize an empty list `search_results` to hold results\n"
   ]
  },
  {
   "cell_type": "code",
   "execution_count": null,
   "metadata": {
    "collapsed": true
   },
   "outputs": [],
   "source": [
    "# since we need 'all' of something, we need a loop\n",
    "# iterate through `my_lst` to search for `my_search`\n",
    "# remember to retrive the index(es) from the list\n",
    "# update the `search_results` when you have a hit (found) - you should consider using `.append()`\n",
    "\n"
   ]
  },
  {
   "cell_type": "code",
   "execution_count": null,
   "metadata": {
    "collapsed": true
   },
   "outputs": [],
   "source": [
    "# Put everything together as a function\n"
   ]
  },
  {
   "cell_type": "markdown",
   "metadata": {},
   "source": [
    "## Q6. Coding Problem\n",
    "\n",
    "### The Karaca's Encryption Algorithm:\n",
    "\n",
    "Make a function (`karaca_encoder`) that encrypts a given input with these steps:\n",
    "\n",
    "- Input: `'Apple'` # you should test that all inputs are strings\n",
    "- Step 1: set everything to lowercase and reverse the string `'elppa'`, code snippet below can help with reversing a string:\n",
    "```python\n",
    "s = 'abc'\n",
    "''.join(reversed(s))  # 'cba'\n",
    "```\n",
    "\n",
    "- Step 2: replace all vowels using following table, so the input becomes `'1lpp0'`:\n",
    "\n",
    "| vowel | code |\n",
    "| ----- | ---- |\n",
    "| a | 0 |\n",
    "| e | 1 |\n",
    "| i | 2 |\n",
    "| o | 3 |\n",
    "| u | 4 |\n",
    "\n",
    "\n",
    "- Step 3: add `'aca'` to the end of the string, so the string becomes `'1lpp0aca'`\n",
    "- Voila! Return this string `'1lpp0aca'` as the encoded.\n",
    "\n",
    "#### Examples:\n",
    "- karaca_encoder(\"banana\") ➞ \"0n0n0baca\"\n",
    "- karaca_encoder(\"karaca\") ➞ \"0c0r0kaca\"\n",
    "- karaca_encoder(\"burak\") ➞ \"k0r3baca\"\n",
    "- karaca_encoder(\"alpaca\") ➞ \"0c0pl0aca\""
   ]
  },
  {
   "cell_type": "code",
   "execution_count": 7,
   "metadata": {},
   "outputs": [
    {
     "name": "stdin",
     "output_type": "stream",
     "text": [
      "Please enter a string: Apple\n"
     ]
    },
    {
     "name": "stdout",
     "output_type": "stream",
     "text": [
      "The reversed string is : elppa\n",
      "Replacing the vowels gives us:  1lpp0\n",
      "The final output is:  1lpp0aca\n"
     ]
    }
   ],
   "source": [
    "def karaca_encoder(string): \n",
    "    \n",
    "    string = \"\".join(reversed(string)) # .join() method merges all of the characters resulting from the reversed iteration into a new string\n",
    "    return string \n",
    "\n",
    "s = input(\"Please enter a string:\")\n",
    "s = s.lower()\n",
    "\n",
    "key_dict = {'a': '0', 'e':'1', 'i':'2', 'o':'3', 'u':'4'}\n",
    "\n",
    "output = \" \"\n",
    "for c in karaca_encoder(s):\n",
    "    if c in key_dict:\n",
    "        output += key_dict[c]\n",
    "    else:\n",
    "        output += c\n",
    "\n",
    "print (\"The reversed string is :\",karaca_encoder(s)) \n",
    "print(\"Replacing the vowels gives us:\", output)\n",
    "print(\"The final output is:\", output + \"aca\")"
   ]
  },
  {
   "cell_type": "markdown",
   "metadata": {},
   "source": [
    "# Q7. Coding Problem\n",
    "## Closed Brackets Detector - Extra Problem\n",
    "_if you want a little tease, this is a real interview question_. This problem will require you to put everything you learned so far in this class together.\n",
    "\n",
    "You have noticed that Jupyter can help you detect unclosed parentheses, for instance:\n",
    "```python\n",
    "list(str(type(x for x in range(l))) \n",
    "```\n",
    "will give you an error.\n",
    "\n",
    "In this question, you are going to replicate a simpler example of it.\n",
    "\n",
    "Your task in this exercise is as follows (two functions, one embed in another):\n",
    "\n",
    "1. Create a function that generates a string with N opening brackets (`[`) and N closing brackets (`]`), in some arbitrary order.\n",
    "2. Create a function that determines whether the generated string is balanced; that is, whether it consists entirely of pairs of opening/closing brackets (in that order), none of which mis-nest.\n",
    "\n",
    "Requirements:\n",
    "* Your test sequence of brackets need to be (`2,20`) digits long.\n",
    "* You need to generate at least `8` sequences \n",
    "\n",
    "Expected Output:\n",
    "```\n",
    "   []        OK   ][        NOT OK\n",
    "   [][]      OK   ][][      NOT OK\n",
    "   [[][]]    OK   []][[]    NOT OK\n",
    "```"
   ]
  },
  {
   "cell_type": "code",
   "execution_count": null,
   "metadata": {
    "collapsed": true
   },
   "outputs": [],
   "source": [
    "# Write your code here\n"
   ]
  }
 ],
 "metadata": {
  "kernelspec": {
   "display_name": "Python 3",
   "language": "python",
   "name": "python3"
  },
  "language_info": {
   "codemirror_mode": {
    "name": "ipython",
    "version": 3
   },
   "file_extension": ".py",
   "mimetype": "text/x-python",
   "name": "python",
   "nbconvert_exporter": "python",
   "pygments_lexer": "ipython3",
   "version": "3.6.7"
  }
 },
 "nbformat": 4,
 "nbformat_minor": 2
}
